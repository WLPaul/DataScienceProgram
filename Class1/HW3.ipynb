{
 "cells": [
  {
   "cell_type": "markdown",
   "metadata": {},
   "source": [
    "# A rental car company claims the mean time to rent a car on their website is 60 seconds with a standard deviation of 30 seconds. A random sample of 36 customers attempted to rent a car on the website. "
   ]
  },
  {
   "cell_type": "markdown",
   "metadata": {},
   "source": [
    "1) If the mean time to rent was 65 seconds. Is this enough evidence to contradict the company's claim at 5% confidence level? What's the power?"
   ]
  },
  {
   "cell_type": "code",
   "execution_count": 3,
   "metadata": {},
   "outputs": [],
   "source": [
    "from scipy.stats import norm\n",
    "import scipy.stats as st\n",
    "import numpy as np"
   ]
  },
  {
   "cell_type": "markdown",
   "metadata": {},
   "source": [
    "We have H0: u = 60 and H1: u != 60"
   ]
  },
  {
   "cell_type": "code",
   "execution_count": 4,
   "metadata": {},
   "outputs": [
    {
     "data": {
      "text/plain": [
       "1.0"
      ]
     },
     "execution_count": 4,
     "metadata": {},
     "output_type": "execute_result"
    }
   ],
   "source": [
    "z = (65-60)/(30/(36**0.5))\n",
    "z"
   ]
  },
  {
   "cell_type": "code",
   "execution_count": 6,
   "metadata": {},
   "outputs": [
    {
     "name": "stdout",
     "output_type": "stream",
     "text": [
      "1.96\n"
     ]
    }
   ],
   "source": [
    "for x in np.arange(0,3,0.01):\n",
    "    if norm.cdf(x, loc=0, scale=1) > 0.975:\n",
    "        print(x)\n",
    "        break"
   ]
  },
  {
   "cell_type": "markdown",
   "metadata": {},
   "source": [
    "Since it's 2 sided question, Alpha(5%/2=2.5%) = 1.96. But we have z = 1, which is smaller than 1.96. Therefore we can't reject H0 (u = 60)."
   ]
  },
  {
   "cell_type": "code",
   "execution_count": 14,
   "metadata": {},
   "outputs": [
    {
     "name": "stdout",
     "output_type": "stream",
     "text": [
      "50.2 69.8\n",
      "power =  0.1669894122551\n"
     ]
    }
   ],
   "source": [
    "left = 60 - 1.96*(30/(36**0.5))\n",
    "right = 60 + 1.96*(30/(36**0.5))\n",
    "print(left,right)\n",
    "zr = (right-65)/(30/(36**0.5))\n",
    "zl = (left-65)/(30/(36**0.5))\n",
    "p = 1-(norm.cdf(zr, loc=0, scale=1) + norm.cdf(zl, loc=0, scale=1) )\n",
    "print(\"power = \",p)"
   ]
  },
  {
   "cell_type": "markdown",
   "metadata": {},
   "source": [
    "2) If the analysts team believe the claim is not correct and the the time for rent is 67 seconds, what's the sample size need to designed for a sufficient test with 85% fo power"
   ]
  },
  {
   "cell_type": "code",
   "execution_count": 30,
   "metadata": {},
   "outputs": [
    {
     "name": "stdout",
     "output_type": "stream",
     "text": [
      "133\n"
     ]
    }
   ],
   "source": [
    "for n in range(1,1000):\n",
    "    z=((60 + 1.645*(30/(n**0.5)))-67)/(30/(n**0.5))\n",
    "    if 1- norm.cdf(z, loc=0, scale=1) >= 0.85:\n",
    "        print (n)\n",
    "        break"
   ]
  },
  {
   "cell_type": "markdown",
   "metadata": {},
   "source": [
    "size = 133"
   ]
  }
 ],
 "metadata": {
  "kernelspec": {
   "display_name": "Python 3",
   "language": "python",
   "name": "python3"
  },
  "language_info": {
   "codemirror_mode": {
    "name": "ipython",
    "version": 3
   },
   "file_extension": ".py",
   "mimetype": "text/x-python",
   "name": "python",
   "nbconvert_exporter": "python",
   "pygments_lexer": "ipython3",
   "version": "3.7.3"
  }
 },
 "nbformat": 4,
 "nbformat_minor": 2
}
