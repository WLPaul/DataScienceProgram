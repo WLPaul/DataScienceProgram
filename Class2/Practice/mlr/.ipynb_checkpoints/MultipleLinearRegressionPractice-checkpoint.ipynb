{
 "cells": [
  {
   "cell_type": "markdown",
   "metadata": {},
   "source": [
    "# This practice will cover learning points in class2\n",
    "### 1 - Fit MLR model in python with sklearn and statesmodel packages\n",
    "### 2 - Model Selection\n",
    "### 3 - Weighted regression\n",
    "### 4 - Regularization, L1 and L2"
   ]
  },
  {
   "cell_type": "markdown",
   "metadata": {},
   "source": [
    "Import required Python packages."
   ]
  },
  {
   "cell_type": "code",
   "execution_count": 87,
   "metadata": {},
   "outputs": [],
   "source": [
    "from pathlib import Path\n",
    "import os\n",
    "import pandas as pd\n",
    "import numpy as np\n",
    "\n",
    "from sklearn.model_selection import train_test_split\n",
    "\n",
    "from sklearn.metrics import r2_score, mean_squared_error\n",
    "from sklearn.linear_model import LinearRegression, RidgeCV, LassoCV, ElasticNetCV\n",
    "\n",
    "import statsmodels.api as sm\n",
    "\n",
    "import seaborn as sns\n",
    "import matplotlib.pyplot as plt\n",
    "\n",
    "from dmba import stepwise_selection\n",
    "from dmba import AIC_score\n",
    "\n",
    "%matplotlib inline"
   ]
  },
  {
   "cell_type": "markdown",
   "metadata": {},
   "source": [
    "Define paths to data sets. If you don't keep your data in the same directory as the code, adapt the path names."
   ]
  },
  {
   "cell_type": "code",
   "execution_count": 88,
   "metadata": {},
   "outputs": [],
   "source": [
    "DATA = Path('.').resolve().parents[1] / 'Practice\\mlr'\n",
    "\n",
    "HOUSE_CSV = DATA / 'house_sales.csv'"
   ]
  },
  {
   "cell_type": "code",
   "execution_count": 89,
   "metadata": {},
   "outputs": [],
   "source": [
    "#print(DATA)\n",
    "#print(HOUSE_CSV)"
   ]
  },
  {
   "cell_type": "markdown",
   "metadata": {},
   "source": [
    "#### Data read and train-test split"
   ]
  },
  {
   "cell_type": "code",
   "execution_count": 90,
   "metadata": {},
   "outputs": [
    {
     "name": "stdout",
     "output_type": "stream",
     "text": [
      "      DocumentDate  SalePrice  PropertyID   PropertyType          ym  zhvi_px  \\\n",
      "7649    2006-04-05     439000  2488200460      Townhouse  2006-04-01   396500   \n",
      "17357   2007-09-26     250000  6146600020  Single Family  2007-09-01   433500   \n",
      "24477   2007-09-25     225000  8856003525  Single Family  2007-09-01   433500   \n",
      "5027    2007-07-09     555000  1737330040  Single Family  2007-07-01   434200   \n",
      "20832   2006-04-10     350000  7642200150  Single Family  2006-04-01   396500   \n",
      "\n",
      "       zhvi_idx  AdjSalePrice  NbrLivingUnits  SqFtLot  ...  Bathrooms  \\\n",
      "7649   0.911075      481848.0               1     1265  ...       1.50   \n",
      "17357  0.996094      250980.0               1     6572  ...       1.00   \n",
      "24477  0.996094      225882.0               1     7520  ...       1.00   \n",
      "5027   0.997702      556278.0               1     7608  ...       2.50   \n",
      "20832  0.911075      384161.0               1    11000  ...       2.25   \n",
      "\n",
      "       Bedrooms  BldgGrade  YrBuilt  YrRenovated  TrafficNoise  LandVal  \\\n",
      "7649          2          8     2006            0             0   120000   \n",
      "17357         2          6     1950            0             0   105000   \n",
      "24477         3          6     1975            0             0    59000   \n",
      "5027          4          9     1993            0             1   153000   \n",
      "20832         4          7     1962            0             0   113000   \n",
      "\n",
      "       ImpsVal  ZipCode  NewConstruction  \n",
      "7649    279000    98136             True  \n",
      "17357    66000    98032            False  \n",
      "24477    81000    98047            False  \n",
      "5027    351000    98011            False  \n",
      "20832   294000    98146            False  \n",
      "\n",
      "[5 rows x 22 columns]\n",
      "(18149, 22)\n",
      "      DocumentDate  SalePrice  PropertyID   PropertyType          ym  zhvi_px  \\\n",
      "11264   2006-09-07     300000  3390600015  Single Family  2006-09-01   414800   \n",
      "16057   2012-11-12     409950  5409800110  Single Family  2012-11-01   335900   \n",
      "3766    2006-09-22     826000  1342300275  Single Family  2006-09-01   414800   \n",
      "10390   2009-09-21     540000  3275790100  Single Family  2009-09-01   351800   \n",
      "166     2006-10-26    1455000    98001170  Single Family  2006-10-01   418300   \n",
      "\n",
      "       zhvi_idx  AdjSalePrice  NbrLivingUnits  SqFtLot  ...  Bathrooms  \\\n",
      "11264  0.953125      314754.0               1     6300  ...        1.0   \n",
      "16057  0.771829      531141.0               1    12145  ...        2.5   \n",
      "3766   0.953125      866623.0               1     4760  ...        1.0   \n",
      "10390  0.808364      668016.0               1    12948  ...        2.5   \n",
      "166    0.961167     1513784.0               1    15783  ...        3.5   \n",
      "\n",
      "       Bedrooms  BldgGrade  YrBuilt  YrRenovated  TrafficNoise  LandVal  \\\n",
      "11264         3          7     1956            0             1   103000   \n",
      "16057         4          8     2004            0             0    86000   \n",
      "3766          3          7     1918            0             0   478000   \n",
      "10390         4          8     1979            0             0   444000   \n",
      "166           4         11     2006            0             0   304000   \n",
      "\n",
      "       ImpsVal  ZipCode  NewConstruction  \n",
      "11264   198000    98106            False  \n",
      "16057   278000    98354            False  \n",
      "3766    345000    98112            False  \n",
      "10390   214000    98033            False  \n",
      "166     769000    98075             True  \n",
      "\n",
      "[5 rows x 22 columns]\n",
      "(4538, 22)\n"
     ]
    }
   ],
   "source": [
    "houseall = pd.read_csv(HOUSE_CSV, sep='\\t')\n",
    "\n",
    "house, house_test = train_test_split(houseall, test_size=0.2)\n",
    "\n",
    "print(house.head())\n",
    "print(house.shape)\n",
    "\n",
    "print(house_test.head())\n",
    "print(house_test.shape)"
   ]
  },
  {
   "cell_type": "markdown",
   "metadata": {},
   "source": [
    "We can use the `LinearRegression` model from _scikit-learn_."
   ]
  },
  {
   "cell_type": "markdown",
   "metadata": {},
   "source": [
    "## 1 - Multiple Linear Regression (SKlearn)"
   ]
  },
  {
   "cell_type": "code",
   "execution_count": 91,
   "metadata": {},
   "outputs": [
    {
     "name": "stdout",
     "output_type": "stream",
     "text": [
      "      DocumentDate  SalePrice  PropertyID   PropertyType          ym  zhvi_px  \\\n",
      "7649    2006-04-05     439000  2488200460      Townhouse  2006-04-01   396500   \n",
      "17357   2007-09-26     250000  6146600020  Single Family  2007-09-01   433500   \n",
      "24477   2007-09-25     225000  8856003525  Single Family  2007-09-01   433500   \n",
      "5027    2007-07-09     555000  1737330040  Single Family  2007-07-01   434200   \n",
      "20832   2006-04-10     350000  7642200150  Single Family  2006-04-01   396500   \n",
      "\n",
      "       zhvi_idx  AdjSalePrice  NbrLivingUnits  SqFtLot  ...  Bathrooms  \\\n",
      "7649   0.911075      481848.0               1     1265  ...       1.50   \n",
      "17357  0.996094      250980.0               1     6572  ...       1.00   \n",
      "24477  0.996094      225882.0               1     7520  ...       1.00   \n",
      "5027   0.997702      556278.0               1     7608  ...       2.50   \n",
      "20832  0.911075      384161.0               1    11000  ...       2.25   \n",
      "\n",
      "       Bedrooms  BldgGrade  YrBuilt  YrRenovated  TrafficNoise  LandVal  \\\n",
      "7649          2          8     2006            0             0   120000   \n",
      "17357         2          6     1950            0             0   105000   \n",
      "24477         3          6     1975            0             0    59000   \n",
      "5027          4          9     1993            0             1   153000   \n",
      "20832         4          7     1962            0             0   113000   \n",
      "\n",
      "       ImpsVal  ZipCode  NewConstruction  \n",
      "7649    279000    98136             True  \n",
      "17357    66000    98032            False  \n",
      "24477    81000    98047            False  \n",
      "5027    351000    98011            False  \n",
      "20832   294000    98146            False  \n",
      "\n",
      "[5 rows x 22 columns]\n",
      "Index(['DocumentDate', 'SalePrice', 'PropertyID', 'PropertyType', 'ym',\n",
      "       'zhvi_px', 'zhvi_idx', 'AdjSalePrice', 'NbrLivingUnits', 'SqFtLot',\n",
      "       'SqFtTotLiving', 'SqFtFinBasement', 'Bathrooms', 'Bedrooms',\n",
      "       'BldgGrade', 'YrBuilt', 'YrRenovated', 'TrafficNoise', 'LandVal',\n",
      "       'ImpsVal', 'ZipCode', 'NewConstruction'],\n",
      "      dtype='object')\n"
     ]
    }
   ],
   "source": [
    "print(house.head())\n",
    "print(house.columns)"
   ]
  },
  {
   "cell_type": "code",
   "execution_count": 92,
   "metadata": {},
   "outputs": [
    {
     "name": "stdout",
     "output_type": "stream",
     "text": [
      "       AdjSalePrice  SqFtTotLiving  SqFtLot  Bathrooms  Bedrooms  BldgGrade\n",
      "7649       481848.0           1390     1265       1.50         2          8\n",
      "17357      250980.0            900     6572       1.00         2          6\n",
      "24477      225882.0           1010     7520       1.00         3          6\n",
      "5027       556278.0           2830     7608       2.50         4          9\n",
      "20832      384161.0           2180    11000       2.25         4          7\n"
     ]
    }
   ],
   "source": [
    "subset = ['AdjSalePrice', 'SqFtTotLiving', 'SqFtLot', 'Bathrooms', \n",
    "          'Bedrooms', 'BldgGrade']\n",
    "\n",
    "print(house[subset].head())"
   ]
  },
  {
   "cell_type": "code",
   "execution_count": 93,
   "metadata": {},
   "outputs": [
    {
     "name": "stdout",
     "output_type": "stream",
     "text": [
      "Intercept: -512876.136\n",
      "Coefficients:\n",
      " SqFtTotLiving: 229.5323189609905\n",
      " SqFtLot: -0.021159624071239787\n",
      " Bathrooms: -17793.629157184383\n",
      " Bedrooms: -51773.017509921636\n",
      " BldgGrade: 106144.01639692251\n"
     ]
    }
   ],
   "source": [
    "predictors = ['SqFtTotLiving', 'SqFtLot', 'Bathrooms', \n",
    "              'Bedrooms', 'BldgGrade']\n",
    "outcome = 'AdjSalePrice'\n",
    "\n",
    "house_lm = LinearRegression()\n",
    "house_lm.fit(house[predictors], house[outcome])\n",
    "\n",
    "print(f'Intercept: {house_lm.intercept_:.3f}')\n",
    "print('Coefficients:')\n",
    "for name, coef in zip(predictors, house_lm.coef_):\n",
    "    print(f' {name}: {coef}')"
   ]
  },
  {
   "cell_type": "markdown",
   "metadata": {},
   "source": [
    "### Assessing the Model with performance KPIs\n",
    "_Scikit-learn_ provides a number of metrics to determine the quality of a model. Here we use the `r2_score` and `RMSE`."
   ]
  },
  {
   "cell_type": "code",
   "execution_count": 94,
   "metadata": {},
   "outputs": [
    {
     "name": "stdout",
     "output_type": "stream",
     "text": [
      "RMSE: 259249\n",
      "r2: 0.5434\n",
      "RMSE_test: 269067\n",
      "r2_test: 0.5294\n"
     ]
    }
   ],
   "source": [
    "fitted = house_lm.predict(house[predictors])\n",
    "RMSE = np.sqrt(mean_squared_error(house[outcome], fitted))\n",
    "r2 = r2_score(house[outcome], fitted)\n",
    "print(f'RMSE: {RMSE:.0f}')\n",
    "print(f'r2: {r2:.4f}')\n",
    "\n",
    "fitted_test = house_lm.predict(house_test[predictors])\n",
    "RMSE_test = np.sqrt(mean_squared_error(house_test[outcome], fitted_test))\n",
    "r2_test = r2_score(house_test[outcome], fitted_test)\n",
    "print(f'RMSE_test: {RMSE_test:.0f}')\n",
    "print(f'r2_test: {r2_test:.4f}')"
   ]
  },
  {
   "cell_type": "markdown",
   "metadata": {},
   "source": [
    "## 1 - Multiple Linear Regression (statsmodels)"
   ]
  },
  {
   "cell_type": "markdown",
   "metadata": {},
   "source": [
    "While _scikit-learn_ provides a variety of different metrics, _statsmodels_ provides a more in-depth analysis of the linear regression model. This package has two different ways of specifying the model, one that is similar to _scikit-learn_ and one that allows specifying _R_-style formulas. Here we use the first approach. As _statsmodels_ doesn't add an intercept automaticaly, we need to add a constant column with value 1 to the predictors. We can use the _pandas_ method assign for this."
   ]
  },
  {
   "cell_type": "code",
   "execution_count": 95,
   "metadata": {},
   "outputs": [
    {
     "name": "stdout",
     "output_type": "stream",
     "text": [
      "                            OLS Regression Results                            \n",
      "==============================================================================\n",
      "Dep. Variable:           AdjSalePrice   R-squared:                       0.543\n",
      "Model:                            OLS   Adj. R-squared:                  0.543\n",
      "Method:                 Least Squares   F-statistic:                     4318.\n",
      "Date:                Wed, 17 Jun 2020   Prob (F-statistic):               0.00\n",
      "Time:                        16:45:01   Log-Likelihood:            -2.5199e+05\n",
      "No. Observations:               18149   AIC:                         5.040e+05\n",
      "Df Residuals:                   18143   BIC:                         5.040e+05\n",
      "Df Model:                           5                                         \n",
      "Covariance Type:            nonrobust                                         \n",
      "=================================================================================\n",
      "                    coef    std err          t      P>|t|      [0.025      0.975]\n",
      "---------------------------------------------------------------------------------\n",
      "SqFtTotLiving   229.5323      4.374     52.482      0.000     220.960     238.105\n",
      "SqFtLot          -0.0212      0.066     -0.318      0.750      -0.151       0.109\n",
      "Bathrooms     -1.779e+04   4046.822     -4.397      0.000   -2.57e+04   -9861.474\n",
      "Bedrooms      -5.177e+04   2873.621    -18.017      0.000   -5.74e+04   -4.61e+04\n",
      "BldgGrade      1.061e+05   2660.192     39.901      0.000    1.01e+05    1.11e+05\n",
      "const         -5.129e+05   1.75e+04    -29.316      0.000   -5.47e+05   -4.79e+05\n",
      "==============================================================================\n",
      "Omnibus:                    24104.629   Durbin-Watson:                   1.990\n",
      "Prob(Omnibus):                  0.000   Jarque-Bera (JB):         18496309.108\n",
      "Skew:                           7.033   Prob(JB):                         0.00\n",
      "Kurtosis:                     158.761   Cond. No.                     2.93e+05\n",
      "==============================================================================\n",
      "\n",
      "Warnings:\n",
      "[1] Standard Errors assume that the covariance matrix of the errors is correctly specified.\n",
      "[2] The condition number is large, 2.93e+05. This might indicate that there are\n",
      "strong multicollinearity or other numerical problems.\n"
     ]
    }
   ],
   "source": [
    "mlr_sm = sm.OLS(house[outcome], house[predictors].assign(const=1))\n",
    "results = mlr_sm.fit()\n",
    "print(results.summary())"
   ]
  },
  {
   "cell_type": "markdown",
   "metadata": {},
   "source": [
    "### Correlations between predictors"
   ]
  },
  {
   "cell_type": "code",
   "execution_count": 96,
   "metadata": {},
   "outputs": [
    {
     "name": "stdout",
     "output_type": "stream",
     "text": [
      "Correlation Matrix \n",
      "                SqFtTotLiving   SqFtLot  Bathrooms  Bedrooms  BldgGrade\n",
      "SqFtTotLiving       1.000000  0.190584   0.766966  0.617098   0.769994\n",
      "SqFtLot             0.190584  1.000000   0.103563  0.067520   0.141360\n",
      "Bathrooms           0.766966  0.103563   1.000000  0.555755   0.659165\n",
      "Bedrooms            0.617098  0.067520   0.555755  1.000000   0.378671\n",
      "BldgGrade           0.769994  0.141360   0.659165  0.378671   1.000000\n"
     ]
    },
    {
     "data": {
      "image/png": "[encoded data removed]",
      "text/plain": [
       "<Figure size 432x288 with 2 Axes>"
      ]
     },
     "metadata": {
      "needs_background": "dark"
     },
     "output_type": "display_data"
    }
   ],
   "source": [
    "corr = house[predictors].corr()\n",
    "print(\"Correlation Matrix \\n {}\".format(corr))\n",
    "\n",
    "ax = sns.heatmap(\n",
    "    corr, \n",
    "    vmin=-1, vmax=1, center=0,\n",
    "    cmap=sns.diverging_palette(20, 220, n=200),\n",
    "    square=True\n",
    ")\n",
    "ax.set_xticklabels(\n",
    "    ax.get_xticklabels(),\n",
    "    rotation=45,\n",
    "    horizontalalignment='right'\n",
    ");"
   ]
  },
  {
   "cell_type": "markdown",
   "metadata": {},
   "source": [
    "## 2 - Model Selection and Stepwise Regression"
   ]
  },
  {
   "cell_type": "code",
   "execution_count": 97,
   "metadata": {},
   "outputs": [
    {
     "name": "stdout",
     "output_type": "stream",
     "text": [
      "       SqFtTotLiving  SqFtLot  Bathrooms  Bedrooms  BldgGrade   PropertyType  \\\n",
      "7649            1390     1265       1.50         2          8      Townhouse   \n",
      "17357            900     6572       1.00         2          6  Single Family   \n",
      "24477           1010     7520       1.00         3          6  Single Family   \n",
      "5027            2830     7608       2.50         4          9  Single Family   \n",
      "20832           2180    11000       2.25         4          7  Single Family   \n",
      "\n",
      "       NbrLivingUnits  SqFtFinBasement  YrBuilt  YrRenovated  NewConstruction  \n",
      "7649                1              270     2006            0             True  \n",
      "17357               1                0     1950            0            False  \n",
      "24477               1                0     1975            0            False  \n",
      "5027                1                0     1993            0            False  \n",
      "20832               1             1090     1962            0            False  \n",
      "\n",
      " PropertyType List \n",
      "Single Family    16617\n",
      "Townhouse         1324\n",
      "Multiplex          208\n",
      "Name: PropertyType, dtype: int64\n",
      "\n",
      "Predictors after nominal varibale(s) treatment: (18149, 12) \n",
      "\n",
      "\n",
      "                            OLS Regression Results                            \n",
      "==============================================================================\n",
      "Dep. Variable:           AdjSalePrice   R-squared:                       0.598\n",
      "Model:                            OLS   Adj. R-squared:                  0.598\n",
      "Method:                 Least Squares   F-statistic:                     2247.\n",
      "Date:                Wed, 17 Jun 2020   Prob (F-statistic):               0.00\n",
      "Time:                        16:45:01   Log-Likelihood:            -2.5084e+05\n",
      "No. Observations:               18149   AIC:                         5.017e+05\n",
      "Df Residuals:                   18136   BIC:                         5.018e+05\n",
      "Df Model:                          12                                         \n",
      "Covariance Type:            nonrobust                                         \n",
      "==============================================================================================\n",
      "                                 coef    std err          t      P>|t|      [0.025      0.975]\n",
      "----------------------------------------------------------------------------------------------\n",
      "SqFtTotLiving                198.4092      4.709     42.134      0.000     189.179     207.639\n",
      "SqFtLot                        0.1235      0.063      1.964      0.050       0.000       0.247\n",
      "Bathrooms                    4.31e+04   4242.906     10.159      0.000    3.48e+04    5.14e+04\n",
      "Bedrooms                   -5.788e+04   2776.942    -20.843      0.000   -6.33e+04   -5.24e+04\n",
      "BldgGrade                    1.38e+05   2703.720     51.053      0.000    1.33e+05    1.43e+05\n",
      "NbrLivingUnits              2.109e+04   1.91e+04      1.104      0.269   -1.63e+04    5.85e+04\n",
      "SqFtFinBasement                8.4631      5.163      1.639      0.101      -1.656      18.582\n",
      "YrBuilt                    -3519.1453     85.270    -41.271      0.000   -3686.282   -3352.009\n",
      "YrRenovated                    2.8339      4.353      0.651      0.515      -5.699      11.366\n",
      "NewConstruction             2429.4232   6620.968      0.367      0.714   -1.05e+04    1.54e+04\n",
      "PropertyType_Single Family   3.96e+04   2.86e+04      1.385      0.166   -1.64e+04    9.56e+04\n",
      "PropertyType_Townhouse      9.371e+04   2.96e+04      3.162      0.002    3.56e+04    1.52e+05\n",
      "const                       6.062e+06   1.71e+05     35.430      0.000    5.73e+06     6.4e+06\n",
      "==============================================================================\n",
      "Omnibus:                    25179.088   Durbin-Watson:                   1.995\n",
      "Prob(Omnibus):                  0.000   Jarque-Bera (JB):         25170681.053\n",
      "Skew:                           7.586   Prob(JB):                         0.00\n",
      "Kurtosis:                     184.811   Cond. No.                     3.02e+06\n",
      "==============================================================================\n",
      "\n",
      "Warnings:\n",
      "[1] Standard Errors assume that the covariance matrix of the errors is correctly specified.\n",
      "[2] The condition number is large, 3.02e+06. This might indicate that there are\n",
      "strong multicollinearity or other numerical problems.\n"
     ]
    }
   ],
   "source": [
    "predictors = ['SqFtTotLiving', 'SqFtLot', 'Bathrooms', 'Bedrooms',\n",
    "              'BldgGrade', 'PropertyType', 'NbrLivingUnits',\n",
    "              'SqFtFinBasement', 'YrBuilt', 'YrRenovated', \n",
    "              'NewConstruction']\n",
    "\n",
    "print(house[predictors].head())\n",
    "\n",
    "print(\"\\n PropertyType List \\n{}\".format(house['PropertyType'].value_counts(dropna=False)))\n",
    "\n",
    "X = pd.get_dummies(house[predictors], drop_first=True)\n",
    "X['NewConstruction'] = [1 if nc else 0 for nc in X['NewConstruction']]\n",
    "\n",
    "print(\"\\nPredictors after nominal varibale(s) treatment: {} \\n\\n\".format(X.shape))\n",
    "\n",
    "house_full = sm.OLS(house[outcome], X.assign(const=1))\n",
    "results = house_full.fit()\n",
    "print(results.summary())"
   ]
  },
  {
   "cell_type": "markdown",
   "metadata": {},
   "source": [
    "We can use the `stepwise_selection` method from the _dmba_ package."
   ]
  },
  {
   "cell_type": "code",
   "execution_count": 98,
   "metadata": {},
   "outputs": [
    {
     "name": "stdout",
     "output_type": "stream",
     "text": [
      "Variables: SqFtTotLiving, SqFtLot, Bathrooms, Bedrooms, BldgGrade, NbrLivingUnits, SqFtFinBasement, YrBuilt, YrRenovated, NewConstruction, PropertyType_Single Family, PropertyType_Townhouse\n",
      "Start: score=518211.02, constant\n",
      "Step: score=506207.14, add SqFtTotLiving\n",
      "Step: score=504375.22, add BldgGrade\n",
      "Step: score=502303.31, add YrBuilt\n",
      "Step: score=501895.19, add Bedrooms\n",
      "Step: score=501743.52, add Bathrooms\n",
      "Step: score=501695.97, add PropertyType_Townhouse\n",
      "Step: score=501694.31, add SqFtLot\n",
      "Step: score=501693.75, add SqFtFinBasement\n",
      "Step: score=501693.75, unchanged None\n",
      "\n",
      "Intercept: 6139125.705\n",
      "Coefficients:\n",
      " SqFtTotLiving: 198.78716320991225\n",
      " BldgGrade: 137933.9997910606\n",
      " YrBuilt: -3527.6748045359477\n",
      " Bedrooms: -57963.34704853277\n",
      " Bathrooms: 43598.87741521901\n",
      " PropertyType_Townhouse: 55131.56758503322\n",
      " SqFtLot: 0.12271481699294932\n",
      " SqFtFinBasement: 8.209004752039515\n"
     ]
    }
   ],
   "source": [
    "y = house[outcome]\n",
    "\n",
    "def train_model(variables):\n",
    "    if len(variables) == 0:\n",
    "        return None\n",
    "    model = LinearRegression()\n",
    "    model.fit(X[variables], y)\n",
    "    return model\n",
    "\n",
    "def score_model(model, variables):\n",
    "    if len(variables) == 0:\n",
    "        return AIC_score(y, [y.mean()] * len(y), model, df=1)\n",
    "    return AIC_score(y, model.predict(X[variables]), model)\n",
    "\n",
    "best_model, best_variables = stepwise_selection(X.columns, train_model, score_model, \n",
    "                                                verbose=True)\n",
    "\n",
    "print()\n",
    "print(f'Intercept: {best_model.intercept_:.3f}')\n",
    "print('Coefficients:')\n",
    "for name, coef in zip(best_variables, best_model.coef_):\n",
    "    print(f' {name}: {coef}')"
   ]
  },
  {
   "cell_type": "markdown",
   "metadata": {},
   "source": [
    "## 3 - Weighted regression\n",
    "For the house data recent sale price is more relavent for future prediction, old sale data is less reliable, therefore, we like to emphasis the recent sale data by apply more weight. We will use year the house sale to 2005 as weight.\n",
    "\n",
    "We can calculate the Year from the date column using either a list comprehension or the data frame's `apply` method."
   ]
  },
  {
   "cell_type": "code",
   "execution_count": 99,
   "metadata": {},
   "outputs": [
    {
     "name": "stdout",
     "output_type": "stream",
     "text": [
      "\n",
      "DocumentDate List \n",
      "2006-06-19    49\n",
      "2006-07-26    48\n",
      "2006-05-22    46\n",
      "2006-04-25    46\n",
      "2006-05-30    44\n",
      "              ..\n",
      "2014-06-06     1\n",
      "2011-01-31     1\n",
      "2011-06-19     1\n",
      "2014-01-03     1\n",
      "2013-07-14     1\n",
      "Name: DocumentDate, Length: 2479, dtype: int64\n"
     ]
    }
   ],
   "source": [
    "print(\"\\nDocumentDate List \\n{}\".format(house['DocumentDate'].value_counts(dropna=False)))"
   ]
  },
  {
   "cell_type": "code",
   "execution_count": 100,
   "metadata": {},
   "outputs": [
    {
     "name": "stderr",
     "output_type": "stream",
     "text": [
      "C:\\Users\\WenLungHsu\\Anaconda3\\lib\\site-packages\\ipykernel_launcher.py:1: SettingWithCopyWarning: \n",
      "A value is trying to be set on a copy of a slice from a DataFrame.\n",
      "Try using .loc[row_indexer,col_indexer] = value instead\n",
      "\n",
      "See the caveats in the documentation: http://pandas.pydata.org/pandas-docs/stable/user_guide/indexing.html#returning-a-view-versus-a-copy\n",
      "  \"\"\"Entry point for launching an IPython kernel.\n",
      "C:\\Users\\WenLungHsu\\Anaconda3\\lib\\site-packages\\ipykernel_launcher.py:2: SettingWithCopyWarning: \n",
      "A value is trying to be set on a copy of a slice from a DataFrame.\n",
      "Try using .loc[row_indexer,col_indexer] = value instead\n",
      "\n",
      "See the caveats in the documentation: http://pandas.pydata.org/pandas-docs/stable/user_guide/indexing.html#returning-a-view-versus-a-copy\n",
      "  \n",
      "C:\\Users\\WenLungHsu\\Anaconda3\\lib\\site-packages\\ipykernel_launcher.py:3: SettingWithCopyWarning: \n",
      "A value is trying to be set on a copy of a slice from a DataFrame.\n",
      "Try using .loc[row_indexer,col_indexer] = value instead\n",
      "\n",
      "See the caveats in the documentation: http://pandas.pydata.org/pandas-docs/stable/user_guide/indexing.html#returning-a-view-versus-a-copy\n",
      "  This is separate from the ipykernel package so we can avoid doing imports until\n"
     ]
    }
   ],
   "source": [
    "house['Year'] = [int(date.split('-')[0]) for date in house.DocumentDate]  #list comprehension\n",
    "house['Year'] = house.DocumentDate.apply(lambda d: int(d.split('-')[0]))  # apply()\n",
    "house['Weight'] = house.Year - 2005"
   ]
  },
  {
   "cell_type": "code",
   "execution_count": 101,
   "metadata": {},
   "outputs": [
    {
     "data": {
      "text/html": [
       "<div>\n",
       "<style scoped>\n",
       "    .dataframe tbody tr th:only-of-type {\n",
       "        vertical-align: middle;\n",
       "    }\n",
       "\n",
       "    .dataframe tbody tr th {\n",
       "        vertical-align: top;\n",
       "    }\n",
       "\n",
       "    .dataframe thead th {\n",
       "        text-align: right;\n",
       "    }\n",
       "</style>\n",
       "<table border=\"1\" class=\"dataframe\">\n",
       "  <thead>\n",
       "    <tr style=\"text-align: right;\">\n",
       "      <th></th>\n",
       "      <th>predictor</th>\n",
       "      <th>house_lm</th>\n",
       "      <th>house_wt</th>\n",
       "    </tr>\n",
       "  </thead>\n",
       "  <tbody>\n",
       "    <tr>\n",
       "      <td>0</td>\n",
       "      <td>SqFtTotLiving</td>\n",
       "      <td>229.532319</td>\n",
       "      <td>235.969072</td>\n",
       "    </tr>\n",
       "    <tr>\n",
       "      <td>1</td>\n",
       "      <td>SqFtLot</td>\n",
       "      <td>-0.021160</td>\n",
       "      <td>-0.179057</td>\n",
       "    </tr>\n",
       "    <tr>\n",
       "      <td>2</td>\n",
       "      <td>Bathrooms</td>\n",
       "      <td>-17793.629157</td>\n",
       "      <td>-24013.860532</td>\n",
       "    </tr>\n",
       "    <tr>\n",
       "      <td>3</td>\n",
       "      <td>Bedrooms</td>\n",
       "      <td>-51773.017510</td>\n",
       "      <td>-53139.584608</td>\n",
       "    </tr>\n",
       "    <tr>\n",
       "      <td>4</td>\n",
       "      <td>BldgGrade</td>\n",
       "      <td>106144.016397</td>\n",
       "      <td>115763.537687</td>\n",
       "    </tr>\n",
       "    <tr>\n",
       "      <td>5</td>\n",
       "      <td>intercept</td>\n",
       "      <td>-512876.136171</td>\n",
       "      <td>-575617.134431</td>\n",
       "    </tr>\n",
       "  </tbody>\n",
       "</table>\n",
       "</div>"
      ],
      "text/plain": [
       "       predictor       house_lm       house_wt\n",
       "0  SqFtTotLiving     229.532319     235.969072\n",
       "1        SqFtLot      -0.021160      -0.179057\n",
       "2      Bathrooms  -17793.629157  -24013.860532\n",
       "3       Bedrooms  -51773.017510  -53139.584608\n",
       "4      BldgGrade  106144.016397  115763.537687\n",
       "5      intercept -512876.136171 -575617.134431"
      ]
     },
     "execution_count": 101,
     "metadata": {},
     "output_type": "execute_result"
    }
   ],
   "source": [
    "predictors = ['SqFtTotLiving', 'SqFtLot', 'Bathrooms', \n",
    "              'Bedrooms', 'BldgGrade']\n",
    "outcome = 'AdjSalePrice'\n",
    "\n",
    "house_wt = LinearRegression()\n",
    "house_wt.fit(house[predictors], house[outcome], sample_weight=house.Weight)\n",
    "pd.DataFrame({\n",
    "    'predictor': predictors,\n",
    "    'house_lm': house_lm.coef_,\n",
    "    'house_wt': house_wt.coef_,\n",
    "}).append({\n",
    "    'predictor': 'intercept', \n",
    "    'house_lm': house_lm.intercept_,\n",
    "    'house_wt': house_wt.intercept_,\n",
    "}, ignore_index=True)"
   ]
  },
  {
   "cell_type": "code",
   "execution_count": 102,
   "metadata": {},
   "outputs": [
    {
     "name": "stdout",
     "output_type": "stream",
     "text": [
      "       abs_residual_lm  abs_residual_wt  Year\n",
      "7649      43214.672680     54113.709370  2006\n",
      "17357     41891.675951     51113.537407  2007\n",
      "24477     43338.197699     53368.270348  2007\n",
      "5027     283981.348709    303813.920780  2007\n",
      "20832     98990.942434     96420.051925  2006\n",
      "\n",
      "\n",
      "Year   Abs_residual_lm    Abs_residual_wt\n",
      "2006 142141.39118948078 146227.47632025857\n",
      "2007 145158.2702935162 148412.80448373125\n",
      "2008 143312.00116326672 146550.53584648922\n",
      "2009 149331.85677335277 152031.47810575302\n",
      "2010 160361.4490785313 162254.56014481623\n",
      "2011 169170.67646218426 171244.1021819152\n",
      "2012 169684.12852815626 171774.97138279045\n",
      "2013 194598.2386710869 196676.27768289825\n",
      "2014 185849.7475695823 187309.3495317209\n",
      "2015 182511.71504732798 181554.81158847362\n"
     ]
    },
    {
     "data": {
      "image/png": "[encoded data removed]",
      "text/plain": [
       "<Figure size 720x288 with 2 Axes>"
      ]
     },
     "metadata": {
      "needs_background": "dark"
     },
     "output_type": "display_data"
    }
   ],
   "source": [
    "residuals = pd.DataFrame({\n",
    "    'abs_residual_lm': np.abs(house_lm.predict(house[predictors]) - house[outcome]),\n",
    "    'abs_residual_wt': np.abs(house_wt.predict(house[predictors]) - house[outcome]),\n",
    "    'Year': house['Year'],\n",
    "})\n",
    "print(residuals.head())\n",
    "axes = residuals.boxplot(['abs_residual_lm', 'abs_residual_wt'], by='Year', figsize=(10, 4))\n",
    "axes[0].set_ylim(0, 300000)\n",
    "\n",
    "print(\"\\n\\nYear   Abs_residual_lm    Abs_residual_wt\")\n",
    "for year, group in residuals.groupby('Year'):\n",
    "    print(year, np.mean(group['abs_residual_lm']), np.mean(group['abs_residual_wt']))"
   ]
  },
  {
   "cell_type": "markdown",
   "metadata": {},
   "source": [
    "Seems only help 2015 prediction reduce the residuale.If we have a recent holdout sample we can test the weight could help for furture prediction or not"
   ]
  },
  {
   "cell_type": "markdown",
   "metadata": {},
   "source": [
    "# 4 - Regularization"
   ]
  },
  {
   "cell_type": "code",
   "execution_count": 103,
   "metadata": {},
   "outputs": [
    {
     "name": "stdout",
     "output_type": "stream",
     "text": [
      "       SqFtTotLiving  SqFtLot  Bathrooms  Bedrooms  BldgGrade   PropertyType  \\\n",
      "7649            1390     1265       1.50         2          8      Townhouse   \n",
      "17357            900     6572       1.00         2          6  Single Family   \n",
      "24477           1010     7520       1.00         3          6  Single Family   \n",
      "5027            2830     7608       2.50         4          9  Single Family   \n",
      "20832           2180    11000       2.25         4          7  Single Family   \n",
      "\n",
      "       NbrLivingUnits  SqFtFinBasement  YrBuilt  YrRenovated  NewConstruction  \n",
      "7649                1              270     2006            0             True  \n",
      "17357               1                0     1950            0            False  \n",
      "24477               1                0     1975            0            False  \n",
      "5027                1                0     1993            0            False  \n",
      "20832               1             1090     1962            0            False  \n",
      "\n",
      " PropertyType List \n",
      "Single Family    16617\n",
      "Townhouse         1324\n",
      "Multiplex          208\n",
      "Name: PropertyType, dtype: int64\n"
     ]
    }
   ],
   "source": [
    "predictors = ['SqFtTotLiving', 'SqFtLot', 'Bathrooms', 'Bedrooms',\n",
    "              'BldgGrade', 'PropertyType', 'NbrLivingUnits',\n",
    "              'SqFtFinBasement', 'YrBuilt', 'YrRenovated', \n",
    "              'NewConstruction']\n",
    "\n",
    "outcome = 'AdjSalePrice'\n",
    "\n",
    "print(house[predictors].head())\n",
    "\n",
    "print(\"\\n PropertyType List \\n{}\".format(house['PropertyType'].value_counts(dropna=False)))\n",
    "\n",
    "X_train = pd.get_dummies(house[predictors], drop_first=True)\n",
    "X_train['NewConstruction'] = [1 if nc else 0 for nc in X_train['NewConstruction']]\n",
    "y_train = house[outcome]\n",
    "\n",
    "X_test = pd.get_dummies(house_test[predictors], drop_first=True)\n",
    "X_test['NewConstruction'] = [1 if nc else 0 for nc in X_test['NewConstruction']]\n",
    "y_test = house_test[outcome]"
   ]
  },
  {
   "cell_type": "markdown",
   "metadata": {},
   "source": [
    "### Regular Multiple Regression"
   ]
  },
  {
   "cell_type": "code",
   "execution_count": 104,
   "metadata": {},
   "outputs": [
    {
     "data": {
      "text/plain": [
       "{'Intercept': 6061939.139,\n",
       " 'SqFtTotLiving': 198.409,\n",
       " 'SqFtLot': 0.123,\n",
       " 'Bathrooms': 43104.845,\n",
       " 'Bedrooms': -57879.58,\n",
       " 'BldgGrade': 138033.114,\n",
       " 'NbrLivingUnits': 21087.651,\n",
       " 'SqFtFinBasement': 8.463,\n",
       " 'YrBuilt': -3519.145,\n",
       " 'YrRenovated': 2.834,\n",
       " 'NewConstruction': 2429.423,\n",
       " 'PropertyType_Single Family': 39603.094}"
      ]
     },
     "execution_count": 104,
     "metadata": {},
     "output_type": "execute_result"
    }
   ],
   "source": [
    "house_lm = LinearRegression()\n",
    "house_lm.fit(X_train, y_train)\n",
    "\n",
    "mlr_coefs = dict(\n",
    "    zip(['Intercept'] + X_train.columns.tolist()[:-1], \n",
    "        np.round(np.concatenate((house_lm.intercept_, house_lm.coef_), \n",
    "                                axis=None), 3))\n",
    ")\n",
    "\n",
    "mlr_coefs"
   ]
  },
  {
   "cell_type": "code",
   "execution_count": 105,
   "metadata": {},
   "outputs": [
    {
     "name": "stdout",
     "output_type": "stream",
     "text": [
      "regular mlr MSE: 253977\n",
      "r2_test: 0.5807\n"
     ]
    }
   ],
   "source": [
    "fitted_test = house_lm.predict(X_test)\n",
    "MSE_test = np.sqrt(mean_squared_error(y_test, fitted_test))\n",
    "r2 = r2_score(y_test, fitted_test)\n",
    "print(f'regular mlr MSE: {MSE_test:.0f}')\n",
    "print(f'r2_test: {r2:.4f}')"
   ]
  },
  {
   "cell_type": "markdown",
   "metadata": {},
   "source": [
    "### L2 - Ridge regression (Parameter shrinkage)"
   ]
  },
  {
   "cell_type": "code",
   "execution_count": 106,
   "metadata": {},
   "outputs": [
    {
     "name": "stdout",
     "output_type": "stream",
     "text": [
      "Ridge Regression MAE: 137744.937\n",
      "Ridge Regression coefficients:\n"
     ]
    },
    {
     "data": {
      "text/plain": [
       "{'Intercept': 5961962.486,\n",
       " 'SqFtTotLiving': 194.638,\n",
       " 'SqFtLot': 0.132,\n",
       " 'Bathrooms': 44178.156,\n",
       " 'Bedrooms': -56488.709,\n",
       " 'BldgGrade': 137809.14,\n",
       " 'NbrLivingUnits': 14972.22,\n",
       " 'SqFtFinBasement': 10.823,\n",
       " 'YrBuilt': -3458.703,\n",
       " 'YrRenovated': 3.78,\n",
       " 'NewConstruction': 2337.323,\n",
       " 'PropertyType_Single Family': 28461.158}"
      ]
     },
     "execution_count": 106,
     "metadata": {},
     "output_type": "execute_result"
    }
   ],
   "source": [
    "ridge_cv = RidgeCV(normalize=True, alphas=np.logspace(-10, 1, 400))\n",
    "ridge_model = ridge_cv.fit(X_train, y_train)\n",
    "ridge_prediction = ridge_model.predict(X_test)\n",
    "ridge_mae = np.mean(np.abs(y_test - ridge_prediction))\n",
    "ridge_coefs = dict(\n",
    "    zip(['Intercept'] + X_train.columns.tolist()[:-1], \n",
    "        np.round(np.concatenate((ridge_model.intercept_, ridge_model.coef_), \n",
    "                                axis=None), 3))\n",
    ")\n",
    "\n",
    "print('Ridge Regression MAE: {}'.format(np.round(ridge_mae, 3)))\n",
    "print('Ridge Regression coefficients:')\n",
    "ridge_coefs"
   ]
  },
  {
   "cell_type": "markdown",
   "metadata": {},
   "source": [
    "### L1 - Lasso regression (Parameter sparsity)"
   ]
  },
  {
   "cell_type": "code",
   "execution_count": 107,
   "metadata": {},
   "outputs": [
    {
     "name": "stderr",
     "output_type": "stream",
     "text": [
      "C:\\Users\\WenLungHsu\\Anaconda3\\lib\\site-packages\\sklearn\\model_selection\\_split.py:1978: FutureWarning: The default value of cv will change from 3 to 5 in version 0.22. Specify it explicitly to silence this warning.\n",
      "  warnings.warn(CV_WARNING, FutureWarning)\n"
     ]
    },
    {
     "name": "stdout",
     "output_type": "stream",
     "text": [
      "LASSO MAE: 137411.485\n",
      "LASSO coefficients:\n"
     ]
    },
    {
     "data": {
      "text/plain": [
       "{'Intercept': 5886813.092,\n",
       " 'SqFtTotLiving': 195.997,\n",
       " 'SqFtLot': 0.081,\n",
       " 'Bathrooms': 40006.112,\n",
       " 'Bedrooms': -53895.646,\n",
       " 'BldgGrade': 137568.16,\n",
       " 'NbrLivingUnits': 0.0,\n",
       " 'SqFtFinBasement': 8.005,\n",
       " 'YrBuilt': -3397.811,\n",
       " 'YrRenovated': 1.995,\n",
       " 'NewConstruction': 0.0,\n",
       " 'PropertyType_Single Family': -0.0}"
      ]
     },
     "execution_count": 107,
     "metadata": {},
     "output_type": "execute_result"
    }
   ],
   "source": [
    "lasso_cv = LassoCV(normalize=True, alphas=np.logspace(-10, 1, 400))\n",
    "lasso_model = lasso_cv.fit(X_train, y_train)\n",
    "lasso_prediction = lasso_model.predict(X_test)\n",
    "lasso_mae = np.mean(np.abs(y_test - lasso_prediction))\n",
    "lasso_coefs = dict(\n",
    "    zip(['Intercept'] + X_train.columns.tolist()[:-1], \n",
    "        np.round(np.concatenate((lasso_model.intercept_, lasso_model.coef_), axis=None), 3))\n",
    ")\n",
    "\n",
    "print('LASSO MAE: {}'.format(np.round(lasso_mae, 3)))\n",
    "print('LASSO coefficients:')\n",
    "lasso_coefs"
   ]
  },
  {
   "cell_type": "markdown",
   "metadata": {},
   "source": [
    "# Home Work"
   ]
  },
  {
   "cell_type": "markdown",
   "metadata": {},
   "source": [
    "1. Compare the three model fits and draw conclusion \n",
    "from the comparision of the three model firt regarding there coefficent difference"
   ]
  },
  {
   "cell_type": "code",
   "execution_count": 108,
   "metadata": {},
   "outputs": [
    {
     "name": "stdout",
     "output_type": "stream",
     "text": [
      "{'Intercept': 6061939.139, 'SqFtTotLiving': 198.409, 'SqFtLot': 0.123, 'Bathrooms': 43104.845, 'Bedrooms': -57879.58, 'BldgGrade': 138033.114, 'NbrLivingUnits': 21087.651, 'SqFtFinBasement': 8.463, 'YrBuilt': -3519.145, 'YrRenovated': 2.834, 'NewConstruction': 2429.423, 'PropertyType_Single Family': 39603.094}\n",
      "{'Intercept': 5961962.486, 'SqFtTotLiving': 194.638, 'SqFtLot': 0.132, 'Bathrooms': 44178.156, 'Bedrooms': -56488.709, 'BldgGrade': 137809.14, 'NbrLivingUnits': 14972.22, 'SqFtFinBasement': 10.823, 'YrBuilt': -3458.703, 'YrRenovated': 3.78, 'NewConstruction': 2337.323, 'PropertyType_Single Family': 28461.158}\n",
      "{'Intercept': 5886813.092, 'SqFtTotLiving': 195.997, 'SqFtLot': 0.081, 'Bathrooms': 40006.112, 'Bedrooms': -53895.646, 'BldgGrade': 137568.16, 'NbrLivingUnits': 0.0, 'SqFtFinBasement': 8.005, 'YrBuilt': -3397.811, 'YrRenovated': 1.995, 'NewConstruction': 0.0, 'PropertyType_Single Family': -0.0}\n"
     ]
    }
   ],
   "source": [
    "print(mlr_coefs)\n",
    "print(ridge_coefs)\n",
    "print(lasso_coefs)"
   ]
  },
  {
   "cell_type": "markdown",
   "metadata": {},
   "source": [
    "As we can see that in Regular Multiple Regression, all predictors were kept and all coefficent are usually the farest from 0. In L2, some predictors got coefficent are close to 0 compare to Regular Multiple Regression. But the total number of predictors didn't change. In L1, the coefficent of \"YrRenovated\" and \"Family\" is 0. This means that these two prdictors are removed from the model. We can see that L1 method is more efficient on reducing predictors."
   ]
  },
  {
   "cell_type": "markdown",
   "metadata": {},
   "source": [
    "2. Show the three model performance on both tran and test"
   ]
  },
  {
   "cell_type": "code",
   "execution_count": 111,
   "metadata": {},
   "outputs": [
    {
     "name": "stdout",
     "output_type": "stream",
     "text": [
      "regular mlr MSE: 243280\n",
      "L2 MSE: 243292\n",
      "L1 MSE: 243338\n",
      "regular mlr MAE: 136599\n",
      "L2 MAE: 136211\n",
      "L1 MAE: 135958\n",
      "r2_test: 0.5807\n",
      "L2 r2_test: 0.5979\n",
      "L1 r2_test: 0.5977\n"
     ]
    }
   ],
   "source": [
    "#For train data\n",
    "fitted_train = house_lm.predict(X_train)\n",
    "regular_train_mae = np.mean(np.abs(y_train - fitted_train))\n",
    "MSE_train = np.sqrt(mean_squared_error(y_train, fitted_train))\n",
    "ridge_train_prediction = ridge_model.predict(X_train)\n",
    "lasso_train_prediction = lasso_model.predict(X_train)\n",
    "L2_MSE_train = np.sqrt(mean_squared_error(y_train, ridge_train_prediction))\n",
    "L2_train_r2 = r2_score(y_train, ridge_train_prediction)\n",
    "L1_MSE_train = np.sqrt(mean_squared_error(y_train, lasso_train_prediction))                      \n",
    "L1_train_r2 = r2_score(y_train, lasso_train_prediction)\n",
    "ridge_train_mae = np.mean(np.abs(y_train - ridge_train_prediction))\n",
    "lasso_train_mae = np.mean(np.abs(y_train - lasso_train_prediction))\n",
    "\n",
    "\n",
    "print(f'regular mlr MSE: {MSE_train:.0f}')\n",
    "print(f'L2 MSE: {L2_MSE_train:.0f}')\n",
    "print(f'L1 MSE: {L1_MSE_train:.0f}')\n",
    "\n",
    "print(f'regular mlr MAE: {regular_train_mae:.0f}')\n",
    "print(f'L2 MAE: {ridge_train_mae:.0f}')\n",
    "print(f'L1 MAE: {lasso_train_mae:.0f}')\n",
    "\n",
    "print(f'r2_test: {r2:.4f}')\n",
    "print(f'L2 r2_test: {L2_train_r2:.4f}')\n",
    "print(f'L1 r2_test: {L1_train_r2:.4f}')"
   ]
  },
  {
   "cell_type": "code",
   "execution_count": 112,
   "metadata": {},
   "outputs": [
    {
     "name": "stdout",
     "output_type": "stream",
     "text": [
      "regular mlr MSE: 253977\n",
      "L2 MSE: 253952\n",
      "L1 MSE: 253792\n",
      "regular mlr MAE: 138135\n",
      "L2 MAE: 137745\n",
      "L1 MAE: 137411\n",
      "r2_test: 0.5807\n",
      "L2 r2_test: 0.5808\n",
      "L1 r2_test: 0.5813\n"
     ]
    }
   ],
   "source": [
    "#For test data\n",
    "regular_mae = np.mean(np.abs(y_test - fitted_test))\n",
    "L2_MSE_test = np.sqrt(mean_squared_error(y_test, ridge_prediction))\n",
    "L2_r2 = r2_score(y_test, ridge_prediction)\n",
    "L1_MSE_test = np.sqrt(mean_squared_error(y_test, lasso_prediction))                      \n",
    "L1_r2 = r2_score(y_test, lasso_prediction)\n",
    "\n",
    "\n",
    "print(f'regular mlr MSE: {MSE_test:.0f}')\n",
    "print(f'L2 MSE: {L2_MSE_test:.0f}')\n",
    "print(f'L1 MSE: {L1_MSE_test:.0f}')\n",
    "\n",
    "print(f'regular mlr MAE: {regular_mae:.0f}')\n",
    "print(f'L2 MAE: {ridge_mae:.0f}')\n",
    "print(f'L1 MAE: {lasso_mae:.0f}')\n",
    "\n",
    "print(f'r2_test: {r2:.4f}')\n",
    "print(f'L2 r2_test: {L2_r2:.4f}')\n",
    "print(f'L1 r2_test: {L1_r2:.4f}')"
   ]
  },
  {
   "cell_type": "markdown",
   "metadata": {},
   "source": [
    "In train data, we can see that L1 has highest MSE but has the best MAE and R2 score. In test data set, L1 has the best perfomance on all KPIs. "
   ]
  }
 ],
 "metadata": {
  "kernelspec": {
   "display_name": "Python 3",
   "language": "python",
   "name": "python3"
  },
  "language_info": {
   "codemirror_mode": {
    "name": "ipython",
    "version": 3
   },
   "file_extension": ".py",
   "mimetype": "text/x-python",
   "name": "python",
   "nbconvert_exporter": "python",
   "pygments_lexer": "ipython3",
   "version": "3.7.3"
  }
 },
 "nbformat": 4,
 "nbformat_minor": 2
}
